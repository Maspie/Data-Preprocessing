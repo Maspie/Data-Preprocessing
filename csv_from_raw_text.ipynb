{
  "nbformat": 4,
  "nbformat_minor": 0,
  "metadata": {
    "colab": {
      "provenance": [],
      "authorship_tag": "ABX9TyPqDdiIvX86mHX2Kc6Sa+16"
    },
    "kernelspec": {
      "name": "python3",
      "display_name": "Python 3"
    },
    "language_info": {
      "name": "python"
    }
  },
  "cells": [
    {
      "cell_type": "code",
      "execution_count": null,
      "metadata": {
        "id": "ov-21cIfby-L"
      },
      "outputs": [],
      "source": [
        "import pandas as pd\n",
        "\n",
        "with open(\"/content/iris.data\") as f:\n",
        "  data = f.read() #Just reading and saving to data\n",
        "  data = data.split(\"\\n\") # It splits the data according to the \\n to create a list of data\n",
        "\n",
        "print(data)\n",
        "#The main reason is that we can access the data in a list like for example if we wanna access the value 1.4 in first row and 3rd column we can go for [0,2]"
      ]
    },
    {
      "cell_type": "code",
      "source": [
        "newData=[]\n",
        "for line in data: #Printing the data\n",
        "  newData.append(line.split(\",\")) #To make it as list of list\n",
        "  print(newData[0][4]) #print any data from the matrix like this"
      ],
      "metadata": {
        "id": "tigX0a4zK7QK"
      },
      "execution_count": null,
      "outputs": []
    },
    {
      "cell_type": "code",
      "source": [
        "df = pd.DataFrame(newData, columns = [\"1\", \"2\", \"3\", \"4\", \"Type\"]) #Giving column names\n",
        "print(df.head())\n",
        "df.to_csv(\"Iris.csv\", index= False)"
      ],
      "metadata": {
        "colab": {
          "base_uri": "https://localhost:8080/"
        },
        "id": "nqSmaNIJjuLx",
        "outputId": "7a1eb33e-cb22-4459-d673-831b74a989cf"
      },
      "execution_count": 15,
      "outputs": [
        {
          "output_type": "stream",
          "name": "stdout",
          "text": [
            "     1    2    3    4         Type\n",
            "0  5.1  3.5  1.4  0.2  Iris-setosa\n",
            "1  4.9  3.0  1.4  0.2  Iris-setosa\n",
            "2  4.7  3.2  1.3  0.2  Iris-setosa\n",
            "3  4.6  3.1  1.5  0.2  Iris-setosa\n",
            "4  5.0  3.6  1.4  0.2  Iris-setosa\n"
          ]
        }
      ]
    },
    {
      "cell_type": "code",
      "source": [],
      "metadata": {
        "id": "FyaU3OxGkKmF"
      },
      "execution_count": null,
      "outputs": []
    }
  ]
}